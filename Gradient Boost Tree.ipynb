{
 "cells": [
  {
   "cell_type": "code",
   "execution_count": 1,
   "metadata": {},
   "outputs": [],
   "source": [
    "import math\n",
    "import pandas as pd\n",
    "import numpy as np\n",
    "import matplotlib.pyplot as plt\n",
    "\n",
    "from math import sqrt\n",
    "from sklearn import datasets, ensemble\n",
    "from sklearn.inspection import permutation_importance\n",
    "from sklearn.metrics import mean_squared_error\n",
    "from sklearn.model_selection import train_test_split"
   ]
  },
  {
   "cell_type": "markdown",
   "metadata": {},
   "source": [
    "# Insert Data"
   ]
  },
  {
   "cell_type": "code",
   "execution_count": 2,
   "metadata": {},
   "outputs": [],
   "source": [
    "df=pd.read_excel('Desktop\\Data WOMAC Score after TKR.xlsx')"
   ]
  },
  {
   "cell_type": "code",
   "execution_count": 3,
   "metadata": {},
   "outputs": [
    {
     "data": {
      "text/html": [
       "<div>\n",
       "<style scoped>\n",
       "    .dataframe tbody tr th:only-of-type {\n",
       "        vertical-align: middle;\n",
       "    }\n",
       "\n",
       "    .dataframe tbody tr th {\n",
       "        vertical-align: top;\n",
       "    }\n",
       "\n",
       "    .dataframe thead th {\n",
       "        text-align: right;\n",
       "    }\n",
       "</style>\n",
       "<table border=\"1\" class=\"dataframe\">\n",
       "  <thead>\n",
       "    <tr style=\"text-align: right;\">\n",
       "      <th></th>\n",
       "      <th>order</th>\n",
       "      <th>age</th>\n",
       "      <th>sex</th>\n",
       "      <th>height</th>\n",
       "      <th>weight</th>\n",
       "      <th>BMI</th>\n",
       "      <th>ROM before sX</th>\n",
       "      <th>ROM after sX</th>\n",
       "      <th>WOMAC score before surgery</th>\n",
       "      <th>WOMAC score after surgery</th>\n",
       "      <th>...</th>\n",
       "      <th>walking on flat surface</th>\n",
       "      <th>going up and down stair</th>\n",
       "      <th>sitting on the chair</th>\n",
       "      <th>getting in or out of the car</th>\n",
       "      <th>lying from bed</th>\n",
       "      <th>squat</th>\n",
       "      <th>sitting on the floor</th>\n",
       "      <th>exercise by bicycle</th>\n",
       "      <th>problem</th>\n",
       "      <th>walk without gait aid</th>\n",
       "    </tr>\n",
       "  </thead>\n",
       "  <tbody>\n",
       "    <tr>\n",
       "      <th>0</th>\n",
       "      <td>1</td>\n",
       "      <td>52</td>\n",
       "      <td>1</td>\n",
       "      <td>165</td>\n",
       "      <td>83.0</td>\n",
       "      <td>30.486685</td>\n",
       "      <td>2</td>\n",
       "      <td>2</td>\n",
       "      <td>75.0</td>\n",
       "      <td>77.3</td>\n",
       "      <td>...</td>\n",
       "      <td>1</td>\n",
       "      <td>2</td>\n",
       "      <td>2</td>\n",
       "      <td>1</td>\n",
       "      <td>1</td>\n",
       "      <td>1</td>\n",
       "      <td>1</td>\n",
       "      <td>1</td>\n",
       "      <td>0</td>\n",
       "      <td>3.0</td>\n",
       "    </tr>\n",
       "    <tr>\n",
       "      <th>1</th>\n",
       "      <td>2</td>\n",
       "      <td>75</td>\n",
       "      <td>2</td>\n",
       "      <td>150</td>\n",
       "      <td>66.5</td>\n",
       "      <td>29.555556</td>\n",
       "      <td>2</td>\n",
       "      <td>2</td>\n",
       "      <td>61.0</td>\n",
       "      <td>74.0</td>\n",
       "      <td>...</td>\n",
       "      <td>3</td>\n",
       "      <td>2</td>\n",
       "      <td>1</td>\n",
       "      <td>1</td>\n",
       "      <td>3</td>\n",
       "      <td>1</td>\n",
       "      <td>2</td>\n",
       "      <td>1</td>\n",
       "      <td>0</td>\n",
       "      <td>3.0</td>\n",
       "    </tr>\n",
       "    <tr>\n",
       "      <th>2</th>\n",
       "      <td>3</td>\n",
       "      <td>76</td>\n",
       "      <td>2</td>\n",
       "      <td>159</td>\n",
       "      <td>59.6</td>\n",
       "      <td>23.575017</td>\n",
       "      <td>2</td>\n",
       "      <td>3</td>\n",
       "      <td>45.0</td>\n",
       "      <td>68.0</td>\n",
       "      <td>...</td>\n",
       "      <td>2</td>\n",
       "      <td>1</td>\n",
       "      <td>2</td>\n",
       "      <td>2</td>\n",
       "      <td>3</td>\n",
       "      <td>1</td>\n",
       "      <td>1</td>\n",
       "      <td>1</td>\n",
       "      <td>0</td>\n",
       "      <td>2.0</td>\n",
       "    </tr>\n",
       "    <tr>\n",
       "      <th>3</th>\n",
       "      <td>4</td>\n",
       "      <td>75</td>\n",
       "      <td>2</td>\n",
       "      <td>156</td>\n",
       "      <td>63.7</td>\n",
       "      <td>26.175214</td>\n",
       "      <td>2</td>\n",
       "      <td>2</td>\n",
       "      <td>100.0</td>\n",
       "      <td>90.0</td>\n",
       "      <td>...</td>\n",
       "      <td>3</td>\n",
       "      <td>2</td>\n",
       "      <td>1</td>\n",
       "      <td>1</td>\n",
       "      <td>3</td>\n",
       "      <td>1</td>\n",
       "      <td>1</td>\n",
       "      <td>1</td>\n",
       "      <td>0</td>\n",
       "      <td>3.0</td>\n",
       "    </tr>\n",
       "    <tr>\n",
       "      <th>4</th>\n",
       "      <td>5</td>\n",
       "      <td>85</td>\n",
       "      <td>1</td>\n",
       "      <td>172</td>\n",
       "      <td>73.0</td>\n",
       "      <td>24.675500</td>\n",
       "      <td>4</td>\n",
       "      <td>4</td>\n",
       "      <td>57.0</td>\n",
       "      <td>90.0</td>\n",
       "      <td>...</td>\n",
       "      <td>3</td>\n",
       "      <td>3</td>\n",
       "      <td>3</td>\n",
       "      <td>3</td>\n",
       "      <td>3</td>\n",
       "      <td>1</td>\n",
       "      <td>1</td>\n",
       "      <td>1</td>\n",
       "      <td>0</td>\n",
       "      <td>3.0</td>\n",
       "    </tr>\n",
       "  </tbody>\n",
       "</table>\n",
       "<p>5 rows × 22 columns</p>\n",
       "</div>"
      ],
      "text/plain": [
       "   order  age  sex  height  weight        BMI  ROM before sX  ROM after sX  \\\n",
       "0      1   52    1     165    83.0  30.486685              2             2   \n",
       "1      2   75    2     150    66.5  29.555556              2             2   \n",
       "2      3   76    2     159    59.6  23.575017              2             3   \n",
       "3      4   75    2     156    63.7  26.175214              2             2   \n",
       "4      5   85    1     172    73.0  24.675500              4             4   \n",
       "\n",
       "   WOMAC score before surgery  WOMAC score after surgery  ...  \\\n",
       "0                        75.0                       77.3  ...   \n",
       "1                        61.0                       74.0  ...   \n",
       "2                        45.0                       68.0  ...   \n",
       "3                       100.0                       90.0  ...   \n",
       "4                        57.0                       90.0  ...   \n",
       "\n",
       "   walking on flat surface  going up and down stair  sitting on the chair  \\\n",
       "0                        1                        2                     2   \n",
       "1                        3                        2                     1   \n",
       "2                        2                        1                     2   \n",
       "3                        3                        2                     1   \n",
       "4                        3                        3                     3   \n",
       "\n",
       "   getting in or out of the car  lying from bed  squat  sitting on the floor  \\\n",
       "0                             1               1      1                     1   \n",
       "1                             1               3      1                     2   \n",
       "2                             2               3      1                     1   \n",
       "3                             1               3      1                     1   \n",
       "4                             3               3      1                     1   \n",
       "\n",
       "   exercise by bicycle  problem  walk without gait aid  \n",
       "0                    1        0                    3.0  \n",
       "1                    1        0                    3.0  \n",
       "2                    1        0                    2.0  \n",
       "3                    1        0                    3.0  \n",
       "4                    1        0                    3.0  \n",
       "\n",
       "[5 rows x 22 columns]"
      ]
     },
     "execution_count": 3,
     "metadata": {},
     "output_type": "execute_result"
    }
   ],
   "source": [
    "df.head()"
   ]
  },
  {
   "cell_type": "markdown",
   "metadata": {},
   "source": [
    "# Split data"
   ]
  },
  {
   "cell_type": "code",
   "execution_count": 4,
   "metadata": {},
   "outputs": [],
   "source": [
    "from sklearn.model_selection import train_test_split"
   ]
  },
  {
   "cell_type": "code",
   "execution_count": 5,
   "metadata": {},
   "outputs": [],
   "source": [
    "df.columns;"
   ]
  },
  {
   "cell_type": "code",
   "execution_count": 6,
   "metadata": {},
   "outputs": [],
   "source": [
    "X=df[['age','sex','BMI','getting in or out of the car','ROM after sX','lying from bed','patient meet expectation','patient return to normal activity','sitting on the chair','walking on flat surface','walk without gait aid']]\n",
    "y=df['WOMAC score after surgery']"
   ]
  },
  {
   "cell_type": "code",
   "execution_count": 7,
   "metadata": {},
   "outputs": [],
   "source": [
    "X_train,X_test, y_train, y_test=train_test_split(X,y, test_size=0.3)"
   ]
  },
  {
   "cell_type": "markdown",
   "metadata": {},
   "source": [
    "# Gradient Boosting Regression"
   ]
  },
  {
   "cell_type": "code",
   "execution_count": 8,
   "metadata": {},
   "outputs": [],
   "source": [
    "from sklearn.ensemble import GradientBoostingRegressor"
   ]
  },
  {
   "cell_type": "code",
   "execution_count": 9,
   "metadata": {},
   "outputs": [],
   "source": [
    "gbr_params = { 'n_estimators': 500,\n",
    "                 'max_depth': 11,           \n",
    "                 'learning_rate': 0.1,\n",
    "                 'loss': 'ls'}"
   ]
  },
  {
   "cell_type": "code",
   "execution_count": 10,
   "metadata": {},
   "outputs": [],
   "source": [
    "gbr = GradientBoostingRegressor(**gbr_params)"
   ]
  },
  {
   "cell_type": "code",
   "execution_count": 11,
   "metadata": {},
   "outputs": [],
   "source": [
    "gbr.fit(X_train, y_train);"
   ]
  },
  {
   "cell_type": "code",
   "execution_count": 12,
   "metadata": {},
   "outputs": [
    {
     "name": "stdout",
     "output_type": "stream",
     "text": [
      "Model Accuracy: 0.546\n"
     ]
    }
   ],
   "source": [
    "print(\"Model Accuracy: %.3f\" % gbr.score(X_test, y_test))"
   ]
  },
  {
   "cell_type": "code",
   "execution_count": 13,
   "metadata": {},
   "outputs": [
    {
     "name": "stdout",
     "output_type": "stream",
     "text": [
      "The mean squared error (MSE) on test set: 6.7103\n"
     ]
    }
   ],
   "source": [
    "mse = sqrt(mean_squared_error(y_test, gbr.predict(X_test)))\n",
    "print(\"The mean squared error (MSE) on test set: {:.4f}\".format(mse))"
   ]
  }
 ],
 "metadata": {
  "kernelspec": {
   "display_name": "Python 3",
   "language": "python",
   "name": "python3"
  },
  "language_info": {
   "codemirror_mode": {
    "name": "ipython",
    "version": 3
   },
   "file_extension": ".py",
   "mimetype": "text/x-python",
   "name": "python",
   "nbconvert_exporter": "python",
   "pygments_lexer": "ipython3",
   "version": "3.7.6"
  }
 },
 "nbformat": 4,
 "nbformat_minor": 4
}
